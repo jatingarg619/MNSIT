{
 "cells": [
  {
   "cell_type": "code",
   "execution_count": 2,
   "metadata": {},
   "outputs": [
    {
     "name": "stdout",
     "output_type": "stream",
     "text": [
      "\n",
      "Epoch 1:\n"
     ]
    },
    {
     "name": "stderr",
     "output_type": "stream",
     "text": [
      "loss=0.0355 batch_id=781: 100%|██████████| 782/782 [01:04<00:00, 12.11it/s]\n"
     ]
    },
    {
     "name": "stdout",
     "output_type": "stream",
     "text": [
      "\n",
      "Validation Set Performance:\n",
      "\n",
      "Test set: Average loss: 0.0987, Accuracy: 9687/10000 (96.87%)\n",
      "\n",
      "\n",
      "Test Set Performance:\n",
      "\n",
      "Test set: Average loss: 0.0687, Accuracy: 9787/10000 (97.87%)\n",
      "\n",
      "\n",
      "Epoch 2:\n"
     ]
    },
    {
     "name": "stderr",
     "output_type": "stream",
     "text": [
      "loss=0.0371 batch_id=781: 100%|██████████| 782/782 [01:05<00:00, 12.02it/s]\n"
     ]
    },
    {
     "name": "stdout",
     "output_type": "stream",
     "text": [
      "\n",
      "Validation Set Performance:\n",
      "\n",
      "Test set: Average loss: 0.0572, Accuracy: 9827/10000 (98.27%)\n",
      "\n",
      "\n",
      "Test Set Performance:\n",
      "\n",
      "Test set: Average loss: 0.0412, Accuracy: 9867/10000 (98.67%)\n",
      "\n",
      "\n",
      "Epoch 3:\n"
     ]
    },
    {
     "name": "stderr",
     "output_type": "stream",
     "text": [
      "loss=0.0479 batch_id=781: 100%|██████████| 782/782 [01:05<00:00, 11.99it/s]\n"
     ]
    },
    {
     "name": "stdout",
     "output_type": "stream",
     "text": [
      "\n",
      "Validation Set Performance:\n",
      "\n",
      "Test set: Average loss: 0.0523, Accuracy: 9842/10000 (98.42%)\n",
      "\n",
      "\n",
      "Test Set Performance:\n",
      "\n",
      "Test set: Average loss: 0.0469, Accuracy: 9850/10000 (98.50%)\n",
      "\n",
      "\n",
      "Epoch 4:\n"
     ]
    },
    {
     "name": "stderr",
     "output_type": "stream",
     "text": [
      "loss=0.1242 batch_id=781: 100%|██████████| 782/782 [01:11<00:00, 10.92it/s]\n"
     ]
    },
    {
     "name": "stdout",
     "output_type": "stream",
     "text": [
      "\n",
      "Validation Set Performance:\n",
      "\n",
      "Test set: Average loss: 0.0551, Accuracy: 9824/10000 (98.24%)\n",
      "\n",
      "\n",
      "Test Set Performance:\n",
      "\n",
      "Test set: Average loss: 0.0362, Accuracy: 9886/10000 (98.86%)\n",
      "\n",
      "\n",
      "Epoch 5:\n"
     ]
    },
    {
     "name": "stderr",
     "output_type": "stream",
     "text": [
      "loss=0.0283 batch_id=781: 100%|██████████| 782/782 [01:04<00:00, 12.17it/s]\n"
     ]
    },
    {
     "name": "stdout",
     "output_type": "stream",
     "text": [
      "\n",
      "Validation Set Performance:\n",
      "\n",
      "Test set: Average loss: 0.0388, Accuracy: 9869/10000 (98.69%)\n",
      "\n",
      "\n",
      "Test Set Performance:\n",
      "\n",
      "Test set: Average loss: 0.0256, Accuracy: 9922/10000 (99.22%)\n",
      "\n",
      "\n",
      "Epoch 6:\n"
     ]
    },
    {
     "name": "stderr",
     "output_type": "stream",
     "text": [
      "loss=0.0168 batch_id=781: 100%|██████████| 782/782 [01:03<00:00, 12.28it/s]\n"
     ]
    },
    {
     "name": "stdout",
     "output_type": "stream",
     "text": [
      "\n",
      "Validation Set Performance:\n",
      "\n",
      "Test set: Average loss: 0.0385, Accuracy: 9888/10000 (98.88%)\n",
      "\n",
      "\n",
      "Test Set Performance:\n",
      "\n",
      "Test set: Average loss: 0.0282, Accuracy: 9904/10000 (99.04%)\n",
      "\n",
      "\n",
      "Epoch 7:\n"
     ]
    },
    {
     "name": "stderr",
     "output_type": "stream",
     "text": [
      "loss=0.0093 batch_id=781: 100%|██████████| 782/782 [01:08<00:00, 11.47it/s]\n"
     ]
    },
    {
     "name": "stdout",
     "output_type": "stream",
     "text": [
      "\n",
      "Validation Set Performance:\n",
      "\n",
      "Test set: Average loss: 0.0357, Accuracy: 9884/10000 (98.84%)\n",
      "\n",
      "\n",
      "Test Set Performance:\n",
      "\n",
      "Test set: Average loss: 0.0221, Accuracy: 9932/10000 (99.32%)\n",
      "\n",
      "\n",
      "Epoch 8:\n"
     ]
    },
    {
     "name": "stderr",
     "output_type": "stream",
     "text": [
      "loss=0.0188 batch_id=781: 100%|██████████| 782/782 [01:05<00:00, 11.97it/s]\n"
     ]
    },
    {
     "name": "stdout",
     "output_type": "stream",
     "text": [
      "\n",
      "Validation Set Performance:\n",
      "\n",
      "Test set: Average loss: 0.0354, Accuracy: 9893/10000 (98.93%)\n",
      "\n",
      "\n",
      "Test Set Performance:\n",
      "\n",
      "Test set: Average loss: 0.0285, Accuracy: 9909/10000 (99.09%)\n",
      "\n",
      "\n",
      "Epoch 9:\n"
     ]
    },
    {
     "name": "stderr",
     "output_type": "stream",
     "text": [
      "loss=0.0353 batch_id=781: 100%|██████████| 782/782 [01:05<00:00, 11.96it/s]\n"
     ]
    },
    {
     "name": "stdout",
     "output_type": "stream",
     "text": [
      "\n",
      "Validation Set Performance:\n",
      "\n",
      "Test set: Average loss: 0.0288, Accuracy: 9907/10000 (99.07%)\n",
      "\n",
      "\n",
      "Test Set Performance:\n",
      "\n",
      "Test set: Average loss: 0.0210, Accuracy: 9933/10000 (99.33%)\n",
      "\n",
      "\n",
      "Epoch 10:\n"
     ]
    },
    {
     "name": "stderr",
     "output_type": "stream",
     "text": [
      "loss=0.0123 batch_id=781: 100%|██████████| 782/782 [01:08<00:00, 11.41it/s]\n"
     ]
    },
    {
     "name": "stdout",
     "output_type": "stream",
     "text": [
      "\n",
      "Validation Set Performance:\n",
      "\n",
      "Test set: Average loss: 0.0342, Accuracy: 9887/10000 (98.87%)\n",
      "\n",
      "\n",
      "Test Set Performance:\n",
      "\n",
      "Test set: Average loss: 0.0234, Accuracy: 9921/10000 (99.21%)\n",
      "\n",
      "\n",
      "Epoch 11:\n"
     ]
    },
    {
     "name": "stderr",
     "output_type": "stream",
     "text": [
      "loss=0.0301 batch_id=781: 100%|██████████| 782/782 [01:07<00:00, 11.57it/s]\n"
     ]
    },
    {
     "name": "stdout",
     "output_type": "stream",
     "text": [
      "\n",
      "Validation Set Performance:\n",
      "\n",
      "Test set: Average loss: 0.0331, Accuracy: 9891/10000 (98.91%)\n",
      "\n",
      "\n",
      "Test Set Performance:\n",
      "\n",
      "Test set: Average loss: 0.0231, Accuracy: 9929/10000 (99.29%)\n",
      "\n",
      "\n",
      "Epoch 12:\n"
     ]
    },
    {
     "name": "stderr",
     "output_type": "stream",
     "text": [
      "loss=0.0592 batch_id=781: 100%|██████████| 782/782 [01:04<00:00, 12.13it/s]\n"
     ]
    },
    {
     "name": "stdout",
     "output_type": "stream",
     "text": [
      "\n",
      "Validation Set Performance:\n",
      "\n",
      "Test set: Average loss: 0.0245, Accuracy: 9922/10000 (99.22%)\n",
      "\n",
      "\n",
      "Test Set Performance:\n",
      "\n",
      "Test set: Average loss: 0.0194, Accuracy: 9936/10000 (99.36%)\n",
      "\n",
      "\n",
      "Epoch 13:\n"
     ]
    },
    {
     "name": "stderr",
     "output_type": "stream",
     "text": [
      "loss=0.0304 batch_id=781: 100%|██████████| 782/782 [01:05<00:00, 11.89it/s]\n"
     ]
    },
    {
     "name": "stdout",
     "output_type": "stream",
     "text": [
      "\n",
      "Validation Set Performance:\n",
      "\n",
      "Test set: Average loss: 0.0268, Accuracy: 9917/10000 (99.17%)\n",
      "\n",
      "\n",
      "Test Set Performance:\n",
      "\n",
      "Test set: Average loss: 0.0199, Accuracy: 9927/10000 (99.27%)\n",
      "\n",
      "\n",
      "Epoch 14:\n"
     ]
    },
    {
     "name": "stderr",
     "output_type": "stream",
     "text": [
      "loss=0.0075 batch_id=781: 100%|██████████| 782/782 [01:04<00:00, 12.09it/s]\n"
     ]
    },
    {
     "name": "stdout",
     "output_type": "stream",
     "text": [
      "\n",
      "Validation Set Performance:\n",
      "\n",
      "Test set: Average loss: 0.0248, Accuracy: 9923/10000 (99.23%)\n",
      "\n",
      "\n",
      "Test Set Performance:\n",
      "\n",
      "Test set: Average loss: 0.0203, Accuracy: 9934/10000 (99.34%)\n",
      "\n",
      "\n",
      "Epoch 15:\n"
     ]
    },
    {
     "name": "stderr",
     "output_type": "stream",
     "text": [
      "loss=0.0228 batch_id=781: 100%|██████████| 782/782 [01:04<00:00, 12.21it/s]\n"
     ]
    },
    {
     "name": "stdout",
     "output_type": "stream",
     "text": [
      "\n",
      "Validation Set Performance:\n",
      "\n",
      "Test set: Average loss: 0.0226, Accuracy: 9931/10000 (99.31%)\n",
      "\n",
      "\n",
      "Test Set Performance:\n",
      "\n",
      "Test set: Average loss: 0.0175, Accuracy: 9938/10000 (99.38%)\n",
      "\n",
      "\n",
      "Epoch 16:\n"
     ]
    },
    {
     "name": "stderr",
     "output_type": "stream",
     "text": [
      "loss=0.0048 batch_id=781: 100%|██████████| 782/782 [01:04<00:00, 12.05it/s]\n"
     ]
    },
    {
     "name": "stdout",
     "output_type": "stream",
     "text": [
      "\n",
      "Validation Set Performance:\n",
      "\n",
      "Test set: Average loss: 0.0220, Accuracy: 9936/10000 (99.36%)\n",
      "\n",
      "\n",
      "Test Set Performance:\n",
      "\n",
      "Test set: Average loss: 0.0161, Accuracy: 9944/10000 (99.44%)\n",
      "\n",
      "\n",
      "Epoch 17:\n"
     ]
    },
    {
     "name": "stderr",
     "output_type": "stream",
     "text": [
      "loss=0.0031 batch_id=781: 100%|██████████| 782/782 [01:03<00:00, 12.26it/s]\n"
     ]
    },
    {
     "name": "stdout",
     "output_type": "stream",
     "text": [
      "\n",
      "Validation Set Performance:\n",
      "\n",
      "Test set: Average loss: 0.0199, Accuracy: 9940/10000 (99.40%)\n",
      "\n",
      "\n",
      "Test Set Performance:\n",
      "\n",
      "Test set: Average loss: 0.0148, Accuracy: 9948/10000 (99.48%)\n",
      "\n",
      "\n",
      "New best model saved! Val Acc: 99.40%, Test Acc: 99.48%\n",
      "\n",
      "Epoch 18:\n"
     ]
    },
    {
     "name": "stderr",
     "output_type": "stream",
     "text": [
      "loss=0.0302 batch_id=781: 100%|██████████| 782/782 [01:06<00:00, 11.68it/s]\n"
     ]
    },
    {
     "name": "stdout",
     "output_type": "stream",
     "text": [
      "\n",
      "Validation Set Performance:\n",
      "\n",
      "Test set: Average loss: 0.0194, Accuracy: 9934/10000 (99.34%)\n",
      "\n",
      "\n",
      "Test Set Performance:\n",
      "\n",
      "Test set: Average loss: 0.0148, Accuracy: 9948/10000 (99.48%)\n",
      "\n",
      "\n",
      "Epoch 19:\n"
     ]
    },
    {
     "name": "stderr",
     "output_type": "stream",
     "text": [
      "loss=0.0163 batch_id=781: 100%|██████████| 782/782 [01:08<00:00, 11.47it/s]\n"
     ]
    },
    {
     "name": "stdout",
     "output_type": "stream",
     "text": [
      "\n",
      "Validation Set Performance:\n",
      "\n",
      "Test set: Average loss: 0.0187, Accuracy: 9944/10000 (99.44%)\n",
      "\n",
      "\n",
      "Test Set Performance:\n",
      "\n",
      "Test set: Average loss: 0.0149, Accuracy: 9946/10000 (99.46%)\n",
      "\n",
      "\n",
      "New best model saved! Val Acc: 99.44%, Test Acc: 99.46%\n",
      "\n",
      "Best Results:\n",
      "Best Validation Accuracy: 99.44%\n",
      "Best Test Accuracy: 99.48%\n"
     ]
    }
   ],
   "source": [
    "from __future__ import print_function\n",
    "import torch\n",
    "import torch.nn as nn\n",
    "import torch.nn.functional as F\n",
    "import torch.optim as optim\n",
    "from torchvision import datasets, transforms\n",
    "from tqdm import tqdm\n",
    "\n",
    "class Net(nn.Module):\n",
    "    def __init__(self):\n",
    "        super(Net, self).__init__()\n",
    "        # Input Block\n",
    "        self.conv1 = nn.Sequential(\n",
    "            nn.Conv2d(1, 16, 3, padding=1),  # 28x28x16\n",
    "            nn.ReLU(),\n",
    "            nn.BatchNorm2d(16),\n",
    "            nn.Dropout(0.01)\n",
    "        )\n",
    "        \n",
    "        # CONV Block 1\n",
    "        self.conv2 = nn.Sequential(\n",
    "            nn.Conv2d(16, 32, 3, padding=1),  # 28x28x32\n",
    "            nn.ReLU(),\n",
    "            nn.BatchNorm2d(32),\n",
    "            nn.Dropout(0.01)\n",
    "        )\n",
    "        \n",
    "        # Transition Block 1\n",
    "        self.trans1 = nn.Sequential(\n",
    "            nn.MaxPool2d(2, 2)  # 14x14x32\n",
    "        )\n",
    "        \n",
    "        # CONV Block 2\n",
    "        self.conv3 = nn.Sequential(\n",
    "            nn.Conv2d(32, 32, 3, padding=1),  # 14x14x32\n",
    "            nn.ReLU(),\n",
    "            nn.BatchNorm2d(32),\n",
    "            nn.Dropout(0.01)\n",
    "        )\n",
    "        \n",
    "        # CONV Block 3\n",
    "        self.conv4 = nn.Sequential(\n",
    "            nn.Conv2d(32, 16, 3, padding=1),  # 14x14x16\n",
    "            nn.ReLU(),\n",
    "            nn.BatchNorm2d(16),\n",
    "            nn.Dropout(0.01)\n",
    "        )\n",
    "        \n",
    "        # Transition Block 2\n",
    "        self.trans2 = nn.Sequential(\n",
    "            nn.MaxPool2d(2, 2)  # 7x7x16\n",
    "        )\n",
    "        \n",
    "        # CONV Block 4\n",
    "        self.conv5 = nn.Sequential(\n",
    "            nn.Conv2d(16, 32, 3),  # 5x5x32\n",
    "            nn.ReLU(),\n",
    "            nn.BatchNorm2d(32),\n",
    "            nn.Dropout(0.01)\n",
    "        )\n",
    "        \n",
    "        # Global Average Pooling\n",
    "        self.gap = nn.Sequential(\n",
    "            nn.AvgPool2d(kernel_size=5)  # 1x1x32\n",
    "        )\n",
    "        \n",
    "        # Output Block\n",
    "        self.conv6 = nn.Sequential(\n",
    "            nn.Conv2d(32, 10, 1)  # 1x1x10\n",
    "        )\n",
    "\n",
    "    def forward(self, x):\n",
    "        x = self.conv1(x)\n",
    "        x = self.conv2(x)\n",
    "        x = self.trans1(x)\n",
    "        x = self.conv3(x)\n",
    "        x = self.conv4(x)\n",
    "        x = self.trans2(x)\n",
    "        x = self.conv5(x)\n",
    "        x = self.gap(x)\n",
    "        x = self.conv6(x)\n",
    "        x = x.view(-1, 10)\n",
    "        return F.log_softmax(x, dim=1)\n",
    "\n",
    "def train(model, device, train_loader, optimizer, scheduler):\n",
    "    model.train()\n",
    "    pbar = tqdm(train_loader)\n",
    "    for batch_idx, (data, target) in enumerate(pbar):\n",
    "        data, target = data.to(device), target.to(device)\n",
    "        optimizer.zero_grad()\n",
    "        output = model(data)\n",
    "        loss = F.nll_loss(output, target)\n",
    "        loss.backward()\n",
    "        optimizer.step()\n",
    "        scheduler.step()\n",
    "        pbar.set_description(desc=f'loss={loss.item():.4f} batch_id={batch_idx}')\n",
    "\n",
    "def test(model, device, test_loader):\n",
    "    model.eval()\n",
    "    test_loss = 0\n",
    "    correct = 0\n",
    "    with torch.no_grad():\n",
    "        for data, target in test_loader:\n",
    "            data, target = data.to(device), target.to(device)\n",
    "            output = model(data)\n",
    "            test_loss += F.nll_loss(output, target, reduction='sum').item()\n",
    "            pred = output.argmax(dim=1, keepdim=True)\n",
    "            correct += pred.eq(target.view_as(pred)).sum().item()\n",
    "\n",
    "    test_loss /= len(test_loader.dataset)\n",
    "    accuracy = 100. * correct / len(test_loader.dataset)\n",
    "\n",
    "    print(f'\\nTest set: Average loss: {test_loss:.4f}, Accuracy: {correct}/{len(test_loader.dataset)} ({accuracy:.2f}%)\\n')\n",
    "    return accuracy\n",
    "\n",
    "def main():\n",
    "    use_cuda = torch.cuda.is_available()\n",
    "    device = torch.device(\"cuda\" if use_cuda else \"cpu\")\n",
    "    \n",
    "    torch.manual_seed(1)\n",
    "    \n",
    "    batch_size = 64\n",
    "    epochs = 19\n",
    "    \n",
    "    # Enhanced data augmentation\n",
    "    train_transforms = transforms.Compose([\n",
    "        transforms.RandomRotation((-7.0, 7.0), fill=(1,)),\n",
    "        transforms.RandomAffine(degrees=0, translate=(0.1, 0.1), scale=(0.95, 1.05)),\n",
    "        transforms.RandomPerspective(distortion_scale=0.15, p=0.3),\n",
    "        transforms.ColorJitter(brightness=0.1, contrast=0.1),\n",
    "        transforms.ToTensor(),\n",
    "        transforms.Normalize((0.1307,), (0.3081,))\n",
    "    ])\n",
    "    \n",
    "    test_transforms = transforms.Compose([\n",
    "        transforms.ToTensor(),\n",
    "        transforms.Normalize((0.1307,), (0.3081,))\n",
    "    ])\n",
    "\n",
    "    kwargs = {'num_workers': 4, 'pin_memory': True} if use_cuda else {}\n",
    "    \n",
    "    # Load the full training dataset\n",
    "    full_train_dataset = datasets.MNIST('../data', train=True, download=True, transform=train_transforms)\n",
    "    \n",
    "    # Create validation set (10000 images) and training set from the training data\n",
    "    train_size = len(full_train_dataset) - 10000  # Should be 50000\n",
    "    train_dataset, val_dataset = torch.utils.data.random_split(\n",
    "        full_train_dataset, \n",
    "        [train_size, 10000],\n",
    "        generator=torch.Generator().manual_seed(1)\n",
    "    )\n",
    "    \n",
    "    # Load the test dataset (10k images)\n",
    "    test_dataset = datasets.MNIST('../data', train=False, transform=test_transforms)\n",
    "    \n",
    "    # Create data loaders\n",
    "    train_loader = torch.utils.data.DataLoader(\n",
    "        train_dataset,\n",
    "        batch_size=batch_size, shuffle=True, **kwargs)\n",
    "    \n",
    "    val_loader = torch.utils.data.DataLoader(\n",
    "        val_dataset,\n",
    "        batch_size=batch_size, shuffle=False, **kwargs)\n",
    "    \n",
    "    test_loader = torch.utils.data.DataLoader(\n",
    "        test_dataset,\n",
    "        batch_size=batch_size, shuffle=False, **kwargs)\n",
    "\n",
    "    model = Net().to(device)\n",
    "    optimizer = optim.SGD(\n",
    "        model.parameters(),\n",
    "        lr=0.01,\n",
    "        momentum=0.95,\n",
    "        weight_decay=1e-4,\n",
    "        nesterov=True\n",
    "    )\n",
    "    \n",
    "    scheduler = optim.lr_scheduler.OneCycleLR(\n",
    "        optimizer,\n",
    "        max_lr=0.1,\n",
    "        epochs=epochs,\n",
    "        steps_per_epoch=len(train_loader),\n",
    "        pct_start=0.2,\n",
    "        div_factor=10,\n",
    "        final_div_factor=100,\n",
    "        anneal_strategy='cos'\n",
    "    )\n",
    "\n",
    "    best_val_accuracy = 0.0\n",
    "    best_test_accuracy = 0.0\n",
    "    \n",
    "    for epoch in range(1, epochs + 1):\n",
    "        print(f'\\nEpoch {epoch}:')\n",
    "        train(model, device, train_loader, optimizer, scheduler)\n",
    "        \n",
    "        print(\"\\nValidation Set Performance:\")\n",
    "        val_accuracy = test(model, device, val_loader)\n",
    "        \n",
    "        print(\"\\nTest Set Performance:\")\n",
    "        test_accuracy = test(model, device, test_loader)\n",
    "        \n",
    "        # Update best accuracies regardless of threshold\n",
    "        if val_accuracy > best_val_accuracy:\n",
    "            best_val_accuracy = val_accuracy\n",
    "        if test_accuracy > best_test_accuracy:\n",
    "            best_test_accuracy = test_accuracy\n",
    "            \n",
    "        # Save model if both accuracies are good and combined score improves\n",
    "        if val_accuracy >= 99.4 and test_accuracy >= 99.4:\n",
    "            torch.save({\n",
    "                'epoch': epoch,\n",
    "                'model_state_dict': model.state_dict(),\n",
    "                'optimizer_state_dict': optimizer.state_dict(),\n",
    "                'val_accuracy': val_accuracy,\n",
    "                'test_accuracy': test_accuracy,\n",
    "            }, 'mnist_best.pth')\n",
    "            print(f\"\\nNew best model saved! Val Acc: {val_accuracy:.2f}%, Test Acc: {test_accuracy:.2f}%\")\n",
    "\n",
    "    print(f'\\nBest Results:')\n",
    "    print(f'Best Validation Accuracy: {best_val_accuracy:.2f}%')\n",
    "    print(f'Best Test Accuracy: {best_test_accuracy:.2f}%')\n",
    "\n",
    "if __name__ == '__main__':\n",
    "    main() "
   ]
  }
 ],
 "metadata": {
  "kernelspec": {
   "display_name": "venv",
   "language": "python",
   "name": "python3"
  },
  "language_info": {
   "codemirror_mode": {
    "name": "ipython",
    "version": 3
   },
   "file_extension": ".py",
   "mimetype": "text/x-python",
   "name": "python",
   "nbconvert_exporter": "python",
   "pygments_lexer": "ipython3",
   "version": "3.11.5"
  }
 },
 "nbformat": 4,
 "nbformat_minor": 2
}
