{
 "cells": [
  {
   "cell_type": "code",
   "execution_count": 4,
   "metadata": {},
   "outputs": [
    {
     "name": "stdout",
     "output_type": "stream",
     "text": [
      "\n",
      "Epoch 1:\n"
     ]
    },
    {
     "name": "stderr",
     "output_type": "stream",
     "text": [
      "loss=0.0677 batch_id=1562: 100%|██████████| 1563/1563 [00:59<00:00, 26.43it/s]\n"
     ]
    },
    {
     "name": "stdout",
     "output_type": "stream",
     "text": [
      "\n",
      "Validation Set Performance:\n",
      "\n",
      "Test set: Average loss: 0.0731, Accuracy: 9785/10000 (97.85%)\n",
      "\n",
      "\n",
      "Test Set Performance:\n",
      "\n",
      "Test set: Average loss: 0.0554, Accuracy: 9835/10000 (98.35%)\n",
      "\n",
      "\n",
      "Epoch 2:\n"
     ]
    },
    {
     "name": "stderr",
     "output_type": "stream",
     "text": [
      "loss=0.0765 batch_id=1562: 100%|██████████| 1563/1563 [01:00<00:00, 26.04it/s]\n"
     ]
    },
    {
     "name": "stdout",
     "output_type": "stream",
     "text": [
      "\n",
      "Validation Set Performance:\n",
      "\n",
      "Test set: Average loss: 0.0515, Accuracy: 9854/10000 (98.54%)\n",
      "\n",
      "\n",
      "Test Set Performance:\n",
      "\n",
      "Test set: Average loss: 0.0388, Accuracy: 9865/10000 (98.65%)\n",
      "\n",
      "\n",
      "Epoch 3:\n"
     ]
    },
    {
     "name": "stderr",
     "output_type": "stream",
     "text": [
      "loss=0.1311 batch_id=1562: 100%|██████████| 1563/1563 [01:07<00:00, 23.03it/s]\n"
     ]
    },
    {
     "name": "stdout",
     "output_type": "stream",
     "text": [
      "\n",
      "Validation Set Performance:\n",
      "\n",
      "Test set: Average loss: 0.0737, Accuracy: 9778/10000 (97.78%)\n",
      "\n",
      "\n",
      "Test Set Performance:\n",
      "\n",
      "Test set: Average loss: 0.0546, Accuracy: 9829/10000 (98.29%)\n",
      "\n",
      "\n",
      "Epoch 4:\n"
     ]
    },
    {
     "name": "stderr",
     "output_type": "stream",
     "text": [
      "loss=0.0030 batch_id=1562: 100%|██████████| 1563/1563 [00:59<00:00, 26.28it/s]\n"
     ]
    },
    {
     "name": "stdout",
     "output_type": "stream",
     "text": [
      "\n",
      "Validation Set Performance:\n",
      "\n",
      "Test set: Average loss: 0.0433, Accuracy: 9873/10000 (98.73%)\n",
      "\n",
      "\n",
      "Test Set Performance:\n",
      "\n",
      "Test set: Average loss: 0.0301, Accuracy: 9897/10000 (98.97%)\n",
      "\n",
      "\n",
      "Epoch 5:\n"
     ]
    },
    {
     "name": "stderr",
     "output_type": "stream",
     "text": [
      "loss=0.0245 batch_id=1562: 100%|██████████| 1563/1563 [01:01<00:00, 25.62it/s]\n"
     ]
    },
    {
     "name": "stdout",
     "output_type": "stream",
     "text": [
      "\n",
      "Validation Set Performance:\n",
      "\n",
      "Test set: Average loss: 0.0400, Accuracy: 9878/10000 (98.78%)\n",
      "\n",
      "\n",
      "Test Set Performance:\n",
      "\n",
      "Test set: Average loss: 0.0336, Accuracy: 9890/10000 (98.90%)\n",
      "\n",
      "\n",
      "Epoch 6:\n"
     ]
    },
    {
     "name": "stderr",
     "output_type": "stream",
     "text": [
      "loss=0.0006 batch_id=1562: 100%|██████████| 1563/1563 [00:57<00:00, 27.13it/s]\n"
     ]
    },
    {
     "name": "stdout",
     "output_type": "stream",
     "text": [
      "\n",
      "Validation Set Performance:\n",
      "\n",
      "Test set: Average loss: 0.0381, Accuracy: 9882/10000 (98.82%)\n",
      "\n",
      "\n",
      "Test Set Performance:\n",
      "\n",
      "Test set: Average loss: 0.0281, Accuracy: 9912/10000 (99.12%)\n",
      "\n",
      "\n",
      "Epoch 7:\n"
     ]
    },
    {
     "name": "stderr",
     "output_type": "stream",
     "text": [
      "loss=0.0052 batch_id=1562: 100%|██████████| 1563/1563 [00:58<00:00, 26.82it/s]\n"
     ]
    },
    {
     "name": "stdout",
     "output_type": "stream",
     "text": [
      "\n",
      "Validation Set Performance:\n",
      "\n",
      "Test set: Average loss: 0.0347, Accuracy: 9900/10000 (99.00%)\n",
      "\n",
      "\n",
      "Test Set Performance:\n",
      "\n",
      "Test set: Average loss: 0.0239, Accuracy: 9917/10000 (99.17%)\n",
      "\n",
      "\n",
      "Epoch 8:\n"
     ]
    },
    {
     "name": "stderr",
     "output_type": "stream",
     "text": [
      "loss=0.1840 batch_id=1562: 100%|██████████| 1563/1563 [01:03<00:00, 24.52it/s]\n"
     ]
    },
    {
     "name": "stdout",
     "output_type": "stream",
     "text": [
      "\n",
      "Validation Set Performance:\n",
      "\n",
      "Test set: Average loss: 0.0281, Accuracy: 9914/10000 (99.14%)\n",
      "\n",
      "\n",
      "Test Set Performance:\n",
      "\n",
      "Test set: Average loss: 0.0196, Accuracy: 9933/10000 (99.33%)\n",
      "\n",
      "\n",
      "Epoch 9:\n"
     ]
    },
    {
     "name": "stderr",
     "output_type": "stream",
     "text": [
      "loss=0.0011 batch_id=1562: 100%|██████████| 1563/1563 [01:09<00:00, 22.60it/s]\n"
     ]
    },
    {
     "name": "stdout",
     "output_type": "stream",
     "text": [
      "\n",
      "Validation Set Performance:\n",
      "\n",
      "Test set: Average loss: 0.0336, Accuracy: 9904/10000 (99.04%)\n",
      "\n",
      "\n",
      "Test Set Performance:\n",
      "\n",
      "Test set: Average loss: 0.0197, Accuracy: 9938/10000 (99.38%)\n",
      "\n",
      "\n",
      "Epoch 10:\n"
     ]
    },
    {
     "name": "stderr",
     "output_type": "stream",
     "text": [
      "loss=0.0195 batch_id=1562: 100%|██████████| 1563/1563 [01:03<00:00, 24.76it/s]\n"
     ]
    },
    {
     "name": "stdout",
     "output_type": "stream",
     "text": [
      "\n",
      "Validation Set Performance:\n",
      "\n",
      "Test set: Average loss: 0.0372, Accuracy: 9892/10000 (98.92%)\n",
      "\n",
      "\n",
      "Test Set Performance:\n",
      "\n",
      "Test set: Average loss: 0.0265, Accuracy: 9911/10000 (99.11%)\n",
      "\n",
      "\n",
      "Epoch 11:\n"
     ]
    },
    {
     "name": "stderr",
     "output_type": "stream",
     "text": [
      "loss=0.1974 batch_id=1562: 100%|██████████| 1563/1563 [01:00<00:00, 25.98it/s]\n"
     ]
    },
    {
     "name": "stdout",
     "output_type": "stream",
     "text": [
      "\n",
      "Validation Set Performance:\n",
      "\n",
      "Test set: Average loss: 0.0307, Accuracy: 9910/10000 (99.10%)\n",
      "\n",
      "\n",
      "Test Set Performance:\n",
      "\n",
      "Test set: Average loss: 0.0228, Accuracy: 9921/10000 (99.21%)\n",
      "\n",
      "\n",
      "Epoch 12:\n"
     ]
    },
    {
     "name": "stderr",
     "output_type": "stream",
     "text": [
      "loss=0.0276 batch_id=1562: 100%|██████████| 1563/1563 [00:58<00:00, 26.65it/s]\n"
     ]
    },
    {
     "name": "stdout",
     "output_type": "stream",
     "text": [
      "\n",
      "Validation Set Performance:\n",
      "\n",
      "Test set: Average loss: 0.0260, Accuracy: 9914/10000 (99.14%)\n",
      "\n",
      "\n",
      "Test Set Performance:\n",
      "\n",
      "Test set: Average loss: 0.0188, Accuracy: 9937/10000 (99.37%)\n",
      "\n",
      "\n",
      "Epoch 13:\n"
     ]
    },
    {
     "name": "stderr",
     "output_type": "stream",
     "text": [
      "loss=0.0202 batch_id=1562: 100%|██████████| 1563/1563 [00:56<00:00, 27.47it/s]\n"
     ]
    },
    {
     "name": "stdout",
     "output_type": "stream",
     "text": [
      "\n",
      "Validation Set Performance:\n",
      "\n",
      "Test set: Average loss: 0.0281, Accuracy: 9910/10000 (99.10%)\n",
      "\n",
      "\n",
      "Test Set Performance:\n",
      "\n",
      "Test set: Average loss: 0.0217, Accuracy: 9930/10000 (99.30%)\n",
      "\n",
      "\n",
      "Epoch 14:\n"
     ]
    },
    {
     "name": "stderr",
     "output_type": "stream",
     "text": [
      "loss=0.0052 batch_id=1562: 100%|██████████| 1563/1563 [00:58<00:00, 26.53it/s]\n"
     ]
    },
    {
     "name": "stdout",
     "output_type": "stream",
     "text": [
      "\n",
      "Validation Set Performance:\n",
      "\n",
      "Test set: Average loss: 0.0281, Accuracy: 9911/10000 (99.11%)\n",
      "\n",
      "\n",
      "Test Set Performance:\n",
      "\n",
      "Test set: Average loss: 0.0195, Accuracy: 9929/10000 (99.29%)\n",
      "\n",
      "\n",
      "Epoch 15:\n"
     ]
    },
    {
     "name": "stderr",
     "output_type": "stream",
     "text": [
      "loss=0.0063 batch_id=1562: 100%|██████████| 1563/1563 [00:58<00:00, 26.66it/s]\n"
     ]
    },
    {
     "name": "stdout",
     "output_type": "stream",
     "text": [
      "\n",
      "Validation Set Performance:\n",
      "\n",
      "Test set: Average loss: 0.0217, Accuracy: 9937/10000 (99.37%)\n",
      "\n",
      "\n",
      "Test Set Performance:\n",
      "\n",
      "Test set: Average loss: 0.0182, Accuracy: 9931/10000 (99.31%)\n",
      "\n",
      "\n",
      "Epoch 16:\n"
     ]
    },
    {
     "name": "stderr",
     "output_type": "stream",
     "text": [
      "loss=0.0010 batch_id=1562: 100%|██████████| 1563/1563 [00:57<00:00, 27.08it/s]\n"
     ]
    },
    {
     "name": "stdout",
     "output_type": "stream",
     "text": [
      "\n",
      "Validation Set Performance:\n",
      "\n",
      "Test set: Average loss: 0.0206, Accuracy: 9945/10000 (99.45%)\n",
      "\n",
      "\n",
      "Test Set Performance:\n",
      "\n",
      "Test set: Average loss: 0.0144, Accuracy: 9950/10000 (99.50%)\n",
      "\n",
      "\n",
      "New best model saved! Val Acc: 99.45%, Test Acc: 99.50%\n",
      "\n",
      "Epoch 17:\n"
     ]
    },
    {
     "name": "stderr",
     "output_type": "stream",
     "text": [
      "loss=0.0006 batch_id=1562: 100%|██████████| 1563/1563 [00:57<00:00, 27.11it/s]\n"
     ]
    },
    {
     "name": "stdout",
     "output_type": "stream",
     "text": [
      "\n",
      "Validation Set Performance:\n",
      "\n",
      "Test set: Average loss: 0.0203, Accuracy: 9939/10000 (99.39%)\n",
      "\n",
      "\n",
      "Test Set Performance:\n",
      "\n",
      "Test set: Average loss: 0.0129, Accuracy: 9953/10000 (99.53%)\n",
      "\n",
      "\n",
      "Epoch 18:\n"
     ]
    },
    {
     "name": "stderr",
     "output_type": "stream",
     "text": [
      "loss=0.0012 batch_id=1562: 100%|██████████| 1563/1563 [00:58<00:00, 26.65it/s]\n"
     ]
    },
    {
     "name": "stdout",
     "output_type": "stream",
     "text": [
      "\n",
      "Validation Set Performance:\n",
      "\n",
      "Test set: Average loss: 0.0192, Accuracy: 9939/10000 (99.39%)\n",
      "\n",
      "\n",
      "Test Set Performance:\n",
      "\n",
      "Test set: Average loss: 0.0130, Accuracy: 9952/10000 (99.52%)\n",
      "\n",
      "\n",
      "Epoch 19:\n"
     ]
    },
    {
     "name": "stderr",
     "output_type": "stream",
     "text": [
      "loss=0.0007 batch_id=1562: 100%|██████████| 1563/1563 [01:02<00:00, 24.99it/s]\n"
     ]
    },
    {
     "name": "stdout",
     "output_type": "stream",
     "text": [
      "\n",
      "Validation Set Performance:\n",
      "\n",
      "Test set: Average loss: 0.0182, Accuracy: 9940/10000 (99.40%)\n",
      "\n",
      "\n",
      "Test Set Performance:\n",
      "\n",
      "Test set: Average loss: 0.0123, Accuracy: 9955/10000 (99.55%)\n",
      "\n",
      "\n",
      "New best model saved! Val Acc: 99.40%, Test Acc: 99.55%\n",
      "\n",
      "Best Results:\n",
      "Best Validation Accuracy: 99.45%\n",
      "Best Test Accuracy: 99.55%\n"
     ]
    }
   ],
   "source": [
    "from __future__ import print_function\n",
    "import torch\n",
    "import torch.nn as nn\n",
    "import torch.nn.functional as F\n",
    "import torch.optim as optim\n",
    "from torchvision import datasets, transforms\n",
    "from tqdm import tqdm\n",
    "\n",
    "class Net(nn.Module):\n",
    "    def __init__(self):\n",
    "        super(Net, self).__init__()\n",
    "        # Input Block\n",
    "        self.conv1 = nn.Sequential(\n",
    "            nn.Conv2d(1, 16, 3, padding=1),  # 28x28x16\n",
    "            nn.ReLU(),\n",
    "            nn.BatchNorm2d(16),\n",
    "            nn.Dropout(0.01)\n",
    "        )\n",
    "        \n",
    "        # CONV Block 1\n",
    "        self.conv2 = nn.Sequential(\n",
    "            nn.Conv2d(16, 20, 3, padding=1),  # 28x28x20\n",
    "            nn.ReLU(),\n",
    "            nn.BatchNorm2d(20),\n",
    "            nn.Dropout(0.01)\n",
    "        )\n",
    "        \n",
    "        # Transition Block 1\n",
    "        self.trans1 = nn.Sequential(\n",
    "            nn.MaxPool2d(2, 2)  # 14x14x20\n",
    "        )\n",
    "        \n",
    "        # CONV Block 2\n",
    "        self.conv3 = nn.Sequential(\n",
    "            nn.Conv2d(20, 24, 3, padding=1),  # 14x14x24\n",
    "            nn.ReLU(),\n",
    "            nn.BatchNorm2d(24),\n",
    "            nn.Dropout(0.01)\n",
    "        )\n",
    "        \n",
    "        # CONV Block 3\n",
    "        self.conv4 = nn.Sequential(\n",
    "            nn.Conv2d(24, 20, 3, padding=1),  # 14x14x20\n",
    "            nn.ReLU(),\n",
    "            nn.BatchNorm2d(20),\n",
    "            nn.Dropout(0.01)\n",
    "        )\n",
    "        \n",
    "        # Transition Block 2\n",
    "        self.trans2 = nn.Sequential(\n",
    "            nn.MaxPool2d(2, 2)  # 7x7x20\n",
    "        )\n",
    "        \n",
    "        # CONV Block 4\n",
    "        self.conv5 = nn.Sequential(\n",
    "            nn.Conv2d(20, 24, 3),  # 5x5x24\n",
    "            nn.ReLU(),\n",
    "            nn.BatchNorm2d(24),\n",
    "            nn.Dropout(0.01)\n",
    "        )\n",
    "        \n",
    "        # Global Average Pooling\n",
    "        self.gap = nn.Sequential(\n",
    "            nn.AvgPool2d(kernel_size=5)  # 1x1x24\n",
    "        )\n",
    "        \n",
    "        # Output Block\n",
    "        self.conv6 = nn.Sequential(\n",
    "            nn.Conv2d(24, 10, 1)  # 1x1x10\n",
    "        )\n",
    "\n",
    "    def forward(self, x):\n",
    "        x = self.conv1(x)\n",
    "        x = self.conv2(x)\n",
    "        x = self.trans1(x)\n",
    "        x = self.conv3(x)\n",
    "        x = self.conv4(x)\n",
    "        x = self.trans2(x)\n",
    "        x = self.conv5(x)\n",
    "        x = self.gap(x)\n",
    "        x = self.conv6(x)\n",
    "        x = x.view(-1, 10)\n",
    "        return F.log_softmax(x, dim=1)\n",
    "\n",
    "def train(model, device, train_loader, optimizer, scheduler):\n",
    "    model.train()\n",
    "    pbar = tqdm(train_loader)\n",
    "    for batch_idx, (data, target) in enumerate(pbar):\n",
    "        data, target = data.to(device), target.to(device)\n",
    "        optimizer.zero_grad()\n",
    "        output = model(data)\n",
    "        loss = F.nll_loss(output, target)\n",
    "        loss.backward()\n",
    "        optimizer.step()\n",
    "        scheduler.step()\n",
    "        pbar.set_description(desc=f'loss={loss.item():.4f} batch_id={batch_idx}')\n",
    "\n",
    "def test(model, device, test_loader):\n",
    "    model.eval()\n",
    "    test_loss = 0\n",
    "    correct = 0\n",
    "    with torch.no_grad():\n",
    "        for data, target in test_loader:\n",
    "            data, target = data.to(device), target.to(device)\n",
    "            output = model(data)\n",
    "            test_loss += F.nll_loss(output, target, reduction='sum').item()\n",
    "            pred = output.argmax(dim=1, keepdim=True)\n",
    "            correct += pred.eq(target.view_as(pred)).sum().item()\n",
    "\n",
    "    test_loss /= len(test_loader.dataset)\n",
    "    accuracy = 100. * correct / len(test_loader.dataset)\n",
    "\n",
    "    print(f'\\nTest set: Average loss: {test_loss:.4f}, Accuracy: {correct}/{len(test_loader.dataset)} ({accuracy:.2f}%)\\n')\n",
    "    return accuracy\n",
    "\n",
    "def main():\n",
    "    use_cuda = torch.cuda.is_available()\n",
    "    device = torch.device(\"cuda\" if use_cuda else \"cpu\")\n",
    "    \n",
    "    torch.manual_seed(1)\n",
    "    \n",
    "    batch_size = 32\n",
    "    epochs = 19\n",
    "    \n",
    "    # Enhanced data augmentation\n",
    "    train_transforms = transforms.Compose([\n",
    "        transforms.RandomRotation((-5.0, 5.0), fill=(1,)),\n",
    "        transforms.RandomAffine(degrees=0, translate=(0.08, 0.08), scale=(0.97, 1.03)),\n",
    "        transforms.RandomPerspective(distortion_scale=0.1, p=0.2),\n",
    "        transforms.ColorJitter(brightness=0.1, contrast=0.1),\n",
    "        transforms.ToTensor(),\n",
    "        transforms.Normalize((0.1307,), (0.3081,))\n",
    "    ])\n",
    "    \n",
    "    test_transforms = transforms.Compose([\n",
    "        transforms.ToTensor(),\n",
    "        transforms.Normalize((0.1307,), (0.3081,))\n",
    "    ])\n",
    "\n",
    "    kwargs = {'num_workers': 4, 'pin_memory': True} if use_cuda else {}\n",
    "    \n",
    "    # Load the full training dataset\n",
    "    full_train_dataset = datasets.MNIST('../data', train=True, download=True, transform=train_transforms)\n",
    "    \n",
    "    # Create validation set (10000 images) and training set from the training data\n",
    "    train_size = len(full_train_dataset) - 10000  # Should be 50000\n",
    "    train_dataset, val_dataset = torch.utils.data.random_split(\n",
    "        full_train_dataset, \n",
    "        [train_size, 10000],\n",
    "        generator=torch.Generator().manual_seed(1)\n",
    "    )\n",
    "    \n",
    "    # Load the test dataset (10k images)\n",
    "    test_dataset = datasets.MNIST('../data', train=False, transform=test_transforms)\n",
    "    \n",
    "    # Create data loaders\n",
    "    train_loader = torch.utils.data.DataLoader(\n",
    "        train_dataset,\n",
    "        batch_size=batch_size, shuffle=True, **kwargs)\n",
    "    \n",
    "    val_loader = torch.utils.data.DataLoader(\n",
    "        val_dataset,\n",
    "        batch_size=batch_size, shuffle=False, **kwargs)\n",
    "    \n",
    "    test_loader = torch.utils.data.DataLoader(\n",
    "        test_dataset,\n",
    "        batch_size=batch_size, shuffle=False, **kwargs)\n",
    "\n",
    "    model = Net().to(device)\n",
    "    optimizer = optim.SGD(\n",
    "        model.parameters(),\n",
    "        lr=0.008,\n",
    "        momentum=0.95,\n",
    "        weight_decay=5e-5,\n",
    "        nesterov=True\n",
    "    )\n",
    "    \n",
    "    scheduler = optim.lr_scheduler.OneCycleLR(\n",
    "        optimizer,\n",
    "        max_lr=0.12,\n",
    "        epochs=epochs,\n",
    "        steps_per_epoch=len(train_loader),\n",
    "        pct_start=0.25,\n",
    "        div_factor=15,\n",
    "        final_div_factor=150,\n",
    "        anneal_strategy='cos'\n",
    "    )\n",
    "\n",
    "    best_val_accuracy = 0.0\n",
    "    best_test_accuracy = 0.0\n",
    "    \n",
    "    for epoch in range(1, epochs + 1):\n",
    "        print(f'\\nEpoch {epoch}:')\n",
    "        train(model, device, train_loader, optimizer, scheduler)\n",
    "        \n",
    "        print(\"\\nValidation Set Performance:\")\n",
    "        val_accuracy = test(model, device, val_loader)\n",
    "        \n",
    "        print(\"\\nTest Set Performance:\")\n",
    "        test_accuracy = test(model, device, test_loader)\n",
    "        \n",
    "        # Update best accuracies regardless of threshold\n",
    "        if val_accuracy > best_val_accuracy:\n",
    "            best_val_accuracy = val_accuracy\n",
    "        if test_accuracy > best_test_accuracy:\n",
    "            best_test_accuracy = test_accuracy\n",
    "            \n",
    "        # Save model if both accuracies are good and combined score improves\n",
    "        if val_accuracy >= 99.4 and test_accuracy >= 99.4:\n",
    "            torch.save({\n",
    "                'epoch': epoch,\n",
    "                'model_state_dict': model.state_dict(),\n",
    "                'optimizer_state_dict': optimizer.state_dict(),\n",
    "                'val_accuracy': val_accuracy,\n",
    "                'test_accuracy': test_accuracy,\n",
    "            }, 'mnist_best.pth')\n",
    "            print(f\"\\nNew best model saved! Val Acc: {val_accuracy:.2f}%, Test Acc: {test_accuracy:.2f}%\")\n",
    "\n",
    "    print(f'\\nBest Results:')\n",
    "    print(f'Best Validation Accuracy: {best_val_accuracy:.2f}%')\n",
    "    print(f'Best Test Accuracy: {best_test_accuracy:.2f}%')\n",
    "\n",
    "if __name__ == '__main__':\n",
    "    main() "
   ]
  }
 ],
 "metadata": {
  "kernelspec": {
   "display_name": "venv",
   "language": "python",
   "name": "python3"
  },
  "language_info": {
   "codemirror_mode": {
    "name": "ipython",
    "version": 3
   },
   "file_extension": ".py",
   "mimetype": "text/x-python",
   "name": "python",
   "nbconvert_exporter": "python",
   "pygments_lexer": "ipython3",
   "version": "3.11.5"
  }
 },
 "nbformat": 4,
 "nbformat_minor": 2
}
